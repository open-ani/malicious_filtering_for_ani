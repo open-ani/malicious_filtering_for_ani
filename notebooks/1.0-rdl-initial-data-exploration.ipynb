{
 "cells": [
  {
   "cell_type": "code",
   "id": "initial_id",
   "metadata": {
    "collapsed": true,
    "ExecuteTime": {
     "end_time": "2024-07-18T14:53:10.405167Z",
     "start_time": "2024-07-18T14:53:10.399943Z"
    }
   },
   "source": [
    "with open('/Users/richardli/Desktop/openani/malicious_filtering_for_ani/data/external_raw/dictionaries/FIFA.txt', 'r') as file:\n",
    "    print(file.read()[:200])"
   ],
   "outputs": [
    {
     "name": "stdout",
     "output_type": "stream",
     "text": [
      "﻿阿巴多纳多\n",
      "阿巴尔多纳多\n",
      "阿巴罗斯\n",
      "阿巴特\n",
      "阿邦丹契里\n",
      "阿邦丹切里\n",
      "阿邦丹谢里\n",
      "阿比达尔\n",
      "阿比尔德加德\n",
      "阿比亚蒂\n",
      "阿伯丁\n",
      "阿伯里斯特威斯城\n",
      "阿部博之\n",
      "阿布德萨基\n",
      "阿卜杜尔卡迪尔卡亚利\n",
      "阿布杜拉曼\n",
      "阿卜杜拉耶\n",
      "阿卜杜特劳雷\n",
      "阿布多恩\n",
      "阿布多拉耶迪亚拉\n",
      "阿布法拉格\n",
      "阿布凯塔\n",
      "阿布拉哈姆森\n",
      "阿布拉罕\n",
      "阿布拉罕冈萨雷斯\n",
      "阿布蓝特斯\n",
      "阿布里埃尔\n",
      "阿布鲁斯卡托\n",
      "阿布罗斯\n",
      "阿达尔托\n",
      "阿达莫库利巴利\n",
      "阿达莫维奇\n"
     ]
    }
   ],
   "execution_count": 1
  },
  {
   "metadata": {
    "ExecuteTime": {
     "end_time": "2024-07-18T14:53:12.121696Z",
     "start_time": "2024-07-18T14:53:12.119039Z"
    }
   },
   "cell_type": "code",
   "source": [
    "import sys\n",
    "\n",
    "sys.path.append('/Users/richardli/Desktop/openani/malicious_filtering_for_ani/malicious_filtering_for_ani')"
   ],
   "id": "15fdfcfb23bdd80e",
   "outputs": [],
   "execution_count": 2
  },
  {
   "metadata": {
    "ExecuteTime": {
     "end_time": "2024-07-18T14:54:54.863348Z",
     "start_time": "2024-07-18T14:54:50.396762Z"
    }
   },
   "cell_type": "code",
   "source": [
    "from malicious_filtering_for_ani.utils.jieba_util import init_jieba\n",
    "\n",
    "init_jieba(\"/Users/richardli/Desktop/openani/malicious_filtering_for_ani/configs/path_config.yaml\")\n"
   ],
   "id": "1b26922c9f0bd2ac",
   "outputs": [
    {
     "name": "stderr",
     "output_type": "stream",
     "text": [
      "Building prefix dict from the default dictionary ...\n",
      "Dumping model to file cache /var/folders/95/g5q43jrj22x4zqjq90qtpncr0000gn/T/jieba.cache\n",
      "Loading model cost 0.253 seconds.\n",
      "Prefix dict has been built successfully.\n"
     ]
    }
   ],
   "execution_count": 4
  },
  {
   "metadata": {},
   "cell_type": "code",
   "outputs": [],
   "execution_count": null,
   "source": [
    "import pandas as pd\n",
    "import re\n",
    "\n",
    "\n",
    "def extract_text_column(input_file, output_file):\n",
    "    # Load the CSV file into a DataFrame\n",
    "    df = pd.read_csv(input_file, delimiter=',')\n",
    "\n",
    "    # Extract the 'TEXT' column\n",
    "    text_column = df[\"review\"]\n",
    "\n",
    "    # Save the column to a new file\n",
    "    text_column.to_csv(output_file, index=False, header=False)\n",
    "\n",
    "\n",
    "def clean_text_line(line):\n",
    "    \"\"\"\n",
    "    Cleans a single line by removing spaces between words and retaining spaces between numbers and words.\n",
    "    \"\"\"\n",
    "    # Step 1: Remove spaces between words\n",
    "    text_without_word_spaces = re.sub(r'([^\\d\\s])\\s+([^\\d\\s])', r'\\1\\2', line)\n",
    "\n",
    "    # Step 2: Ensure spaces are kept between numbers and words\n",
    "    text_with_number_word_spaces = re.sub(r'(\\d)\\s+([^\\d])', r'\\1 \\2', text_without_word_spaces)\n",
    "    text_with_number_word_spaces = re.sub(r'([^\\d])\\s+(\\d)', r'\\1 \\2', text_with_number_word_spaces)\n",
    "\n",
    "    return text_with_number_word_spaces\n",
    "\n",
    "\n",
    "def process_text_file(input_file, output_file):\n",
    "    \"\"\"\n",
    "    Reads text from the input file line by line, applies cleaning transformations,\n",
    "    and saves the modified text to the output file.\n",
    "\n",
    "    Args:\n",
    "    - input_file (str): Path to the input text file.\n",
    "    - output_file (str): Path to the output text file.\n",
    "    \"\"\"\n",
    "    with open(input_file, 'r', encoding='utf-8') as f_in, open(output_file, 'w', encoding='utf-8') as f_out:\n",
    "        # Read and process each line\n",
    "        for line in f_in:\n",
    "            cleaned_line = clean_text_line(line)\n",
    "\n",
    "            # Write the cleaned line to the output file, including the newline character\n",
    "            f_out.write(cleaned_line)\n",
    "\n",
    "    print(f\"Processed text saved to {output_file}\")"
   ],
   "id": "33dc53a18d9d82"
  },
  {
   "metadata": {},
   "cell_type": "code",
   "outputs": [],
   "execution_count": null,
   "source": [
    "import requests\n",
    "import simplejson as json\n",
    "\n",
    "\n",
    "def download_and_read_csv(url):\n",
    "    \"\"\"\n",
    "    Downloads a CSV file from the given URL and reads it into a pandas DataFrame.\n",
    "\n",
    "    Args:\n",
    "    - url (str): The URL of the CSV file.\n",
    "\n",
    "    Returns:\n",
    "    - pd.DataFrame: A DataFrame containing the content of the CSV file.\n",
    "    \"\"\"\n",
    "    # Download the content from the URL\n",
    "    response = requests.get(url)\n",
    "    response.raise_for_status()  # Raise an error if the download fails\n",
    "\n",
    "    # Convert the content to a string\n",
    "    csv_content = response.content.decode('utf-8')\n",
    "\n",
    "    # Read the CSV content into a DataFrame\n",
    "    from io import StringIO\n",
    "    df = pd.read_csv(StringIO(csv_content))\n",
    "\n",
    "    df.to_csv(\"hotel_all.csv\", index=False)"
   ],
   "id": "162033bb86fb3353"
  },
  {
   "metadata": {},
   "cell_type": "code",
   "outputs": [],
   "execution_count": null,
   "source": [
    "url = 'https://cas.dandanplay.net/api/comment/175690008?from=0&related=b-ep713744-1,gm-32644&urls=https%3A%2F%2Fwww.bilibili.com%2Fbangumi%2Fplay%2Fep713744%3Ffrom_spmid%3D666.25.episode.0%7Chttps%3A%2F%2Fani.gamer.com.tw%2FanimeVideo.php%3Fsn%3D32644&layer=2&chConvert=0'\n",
    "\n",
    "# Make a GET request to fetch the external_raw JSON content\n",
    "response = requests.get(url)\n",
    "\n",
    "# Check if the request was successful\n",
    "if response.status_code == 200:\n",
    "    # Parse the JSON content\n",
    "    json_data = response.json()\n",
    "\n",
    "    # Save the JSON data to a file\n",
    "    with open('dandanplaytest.json', 'w', encoding='utf-8') as json_file:\n",
    "        json.dump(json_data, json_file, indent=4)\n",
    "    print(\"JSON data has been downloaded and saved to data.json\")\n",
    "else:\n",
    "    print(f\"Failed to download JSON data. HTTP Status code: {response.status_code}\")"
   ],
   "id": "94f31e5688014b6c"
  },
  {
   "metadata": {},
   "cell_type": "code",
   "outputs": [],
   "execution_count": null,
   "source": "",
   "id": "5d1b0c9ff1e6918c"
  },
  {
   "metadata": {},
   "cell_type": "code",
   "outputs": [],
   "execution_count": null,
   "source": "",
   "id": "ffa8f5b6f3a94cb4"
  },
  {
   "metadata": {},
   "cell_type": "code",
   "outputs": [],
   "execution_count": null,
   "source": "",
   "id": "e34287fc34c3b030"
  }
 ],
 "metadata": {
  "kernelspec": {
   "display_name": "Python 3",
   "language": "python",
   "name": "python3"
  },
  "language_info": {
   "codemirror_mode": {
    "name": "ipython",
    "version": 2
   },
   "file_extension": ".py",
   "mimetype": "text/x-python",
   "name": "python",
   "nbconvert_exporter": "python",
   "pygments_lexer": "ipython2",
   "version": "2.7.6"
  }
 },
 "nbformat": 4,
 "nbformat_minor": 5
}
